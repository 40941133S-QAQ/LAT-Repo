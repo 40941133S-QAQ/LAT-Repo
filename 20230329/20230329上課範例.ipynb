{
 "cells": [
  {
   "cell_type": "code",
   "execution_count": 1,
   "id": "6d301d3c",
   "metadata": {},
   "outputs": [],
   "source": [
    "import openai\n",
    "import pandas as pd"
   ]
  },
  {
   "cell_type": "code",
   "execution_count": 5,
   "id": "6c329ce0",
   "metadata": {
    "scrolled": false
   },
   "outputs": [],
   "source": [
    "with open('01.txt', 'r') as fh:\n",
    "    tmp = fh.read()\n",
    "    itemlist = tmp.split(',')"
   ]
  },
  {
   "cell_type": "code",
   "execution_count": 20,
   "id": "a3a07803",
   "metadata": {},
   "outputs": [
    {
     "name": "stdout",
     "output_type": "stream",
     "text": [
      "文本長度： 51769\n",
      "需要切成的組數： 17\n"
     ]
    }
   ],
   "source": [
    "itemlist = str(itemlist)\n",
    "text_length = len(tmp)\n",
    "slice_count = (text_length + 3199) // 3200\n",
    "\n",
    "print(\"文本長度：\", text_length)\n",
    "print(\"需要切成的組數：\", slice_count)"
   ]
  },
  {
   "cell_type": "code",
   "execution_count": 2,
   "id": "28f75a0a",
   "metadata": {},
   "outputs": [],
   "source": [
    "keyfile = open(\"D:\\Desktop\\程式\\chat gpt open api key.txt\", \"r\")\n",
    "key = keyfile.readline()\n",
    "openai.api_key = key"
   ]
  },
  {
   "cell_type": "code",
   "execution_count": 22,
   "id": "0f240571",
   "metadata": {},
   "outputs": [],
   "source": [
    "#將文本分成幾段，因為CHATGPT只能處理3200個字\n",
    "data = []\n",
    "for i in range(slice_count):\n",
    "    start = i * 3200\n",
    "    end = min((i + 1) * 3200, len(itemlist))\n",
    "    data.append(itemlist[start:end])"
   ]
  },
  {
   "cell_type": "code",
   "execution_count": 23,
   "id": "d28c52b4",
   "metadata": {
    "scrolled": true
   },
   "outputs": [
    {
     "data": {
      "text/plain": [
       "\"['\\\\nBlockchain in education management: present and future applications \\\\nPreeti Bhaskar \\\\nUniversity of Technology and Applied Sciences', ' Ibra', ' Oman and ICFAI Business School', ' ICFAI University', ' Dehradun', ' India \\\\n\\\\nChandan Kumar Tiwari \\\\nSymbiosis Centre for Management Studies', ' Noida', ' India and Symbiosis International (Deemed University)', ' Pune', ' India', ' and \\\\n\\\\nAmit Joshi \\\\nICFAI Business School', ' ICFAI University', ' Dehradun', ' India \\\\nAbstract \\\\nPurpose   This paper aims to provide a systematic literature review on blockchain technology in education to offer a detailed understanding of the present scenario in terms of bene.ts', ' barriers', ' present blockchain technology application and future areas where blockchain technology can be implemented in the other .elds of education. \\\\nDesign/methodology/approach   A bibliometric analysis is conducted on for data in the publications', ' journals', ' authors and citations were collected', ' and examined by applying bibliometric measures. The data was collected from SCOPUS database on the topic  Blockchain Technology in Education . The following research questions guided this systematic literature review (SLR: How blockchain technology has been de.ned in educational settings? How were the technology examined (i.e. the methodology)? What were the results of using this technology in an education system? \\\\nFindings   The study identi.es the bene.ts', ' barriers and present application of blockchain technology in education. The analysis shows that blockchain technology in education is still a young discipline', ' but has a lot of potential to bene.ts the educational sector at large. \\\\nPractical implications   This research provides a groundwork for education institutions', ' the policymakers and researchers to explore other areas where blockchain technology can be implemented', ' though this research has also suggested some prospective uses of blockchain technology in different functions of an education system', ' more application can be brought into the education system to exploit the potential of blockchain technology. \\\\nOriginality/value   The paper discusses the application of blockchain technology in education with the help of bibliometric analysis. This is one of the .rst known studies to review the blockchain technology by identifying its bene.ts', ' barriers', ' present blockchain technology application. Based on the analysis', ' future application areas are also identi.ed. \\\\nKeywords Systematic review', ' Education', ' Blockchain technology', ' Blockchain application \\\\nPaper type Literature review \\\\n1. Introduction \\\\nBlockchain was .rst used to a peer-to-peer ledger for record-keeping of the transactions of Bitcoin cryptocurrency. A blockchain transaction in the public ledger contains a veri.able record and once the information entered', ' it cannot be altered or erased in the future. The \\\\nBlockchain in education management \\\\nReceived 4 July 2020 Revised 19 September 2020 Accepted 10 October 2020 \\\\n\\\\nInteractive Technology and Smart Education Vol. 18 No. 1', ' 2021 pp. 1-17   Emerald Publishing Limited 1741-5659 DOI 10.1108/ITSE-07-2020-0102 \\\\n\\\\nBlockchain tech\""
      ]
     },
     "execution_count": 23,
     "metadata": {},
     "output_type": "execute_result"
    }
   ],
   "source": [
    "data[0]"
   ]
  },
  {
   "cell_type": "code",
   "execution_count": 24,
   "id": "0dbb0b9e",
   "metadata": {},
   "outputs": [],
   "source": [
    "def chatgptfn(sub_list):\n",
    "    result = ''\n",
    "    response = openai.ChatCompletion.create(\n",
    "        model=\"gpt-3.5-turbo\",\n",
    "        messages=[\n",
    "            {\"role\": \"system\", \"content\": \"You are an assistant\"},\n",
    "            {\"role\": \"user\", \"content\": f\"{sub_list} :give me a summary\"}\n",
    "        ]\n",
    "    )\n",
    "    for choice in response.choices:\n",
    "        result += choice.message.content\n",
    "    return result"
   ]
  },
  {
   "cell_type": "code",
   "execution_count": 25,
   "id": "c7d84a64",
   "metadata": {},
   "outputs": [],
   "source": [
    "for i in range(slice_count):\n",
    "    data[i] = chatgptfn(data[i])"
   ]
  },
  {
   "cell_type": "code",
   "execution_count": 26,
   "id": "d7dc5ed3",
   "metadata": {},
   "outputs": [
    {
     "data": {
      "text/plain": [
       "\"The paper is a literature review on the use of blockchain technology in education. It explores the benefits, barriers, and present applications of the technology, as well as identifying future areas where blockchain technology can be implemented in education. The study shows that blockchain technology is still a young discipline with a lot of potential to benefit the educational sector. The research provides a groundwork for education institutions, policymakers, and researchers to explore other areas where blockchain technology can be implemented. The paper is one of the first known studies to review blockchain technology in education by identifying its benefits and barriers.Blockchain technology has progressed through four generations, with each generation focusing on different applications such as cryptocurrency, smart contracts, governance, and business integration. The technology is reliable, decentralized, transparent, and immutable, making it highly secure and efficient. Blockchain has been used in various sectors, including finance, government, education, health, tourism, energy, and business. It is estimated that by 2025, 10% of the world's GDP will be controlled by blockchain technologies. In education, blockchain is being explored for applications such as global credit transfer and grading systems. The technology's strong cybersecurity capabilities make it a useful tool in various settings. However, its application in education is still at an early stage.This study is a systematic literature review on the use of blockchain technology in education. The paper aims to provide a detailed understanding of the present scenario in terms of benefits, challenges, present applications, and future areas where blockchain technology can be implemented in the education sector. The study explores how blockchain technology can facilitate teaching and learning, student activities management, and administration activities at schools, colleges, and universities. The authors followed the steps involved in conducting a systematic literature review by using the Preferred Reporting Items for Systematic Reviews and Meta-Analyses (PRISMA) diagram and clearly mentioning the data search and inclusion and exclusion criteria for the study under consideration. The study concludes by offering policy-makers, higher education institutions, academicians, managers, and researchers insights on the potential benefits of using blockchain technology for the benefit of the education sector.The article describes a systematic literature review on the topic of blockchain technology in education. The researchers conducted a search on the SCOPUS database and identified 36 articles that met the inclusion criteria, which were analyzed in terms of their objectives, methodology, findings and citations. The article concludes that blockchain technology is a relatively new area of research in education and its application is still immature and lacks public knowledge.The article discusses the potential applications of blockchain technology in the education sector, including student data and credential management, administration activities, and online/brick and mortar teaching and learning. The literature review shows that blockchain technology in education is a growing and multidisciplinary area of research, but there is a need for more quantitative studies. The article also provides information on the year-wise and area-wise distribution of publications on the topic, and the country-wise contributions by researchers.The literature survey analyzed articles that discussed the implementation of blockchain technology in education, health sciences, and marketing. The findings indicate that incorporating blockchain technology in the education system can bring transparency to data management, increase trust in sharing student data, and prevent the creation of fake academic certificates. However, the technology is still relatively unexplored in the field. Some studies propose the use of blockchain for credit platforms or digital credential management. The surveys also suggest that marketing educators should include AI and blockchain strategies in their curriculums. Additionally, countries in the GCC region have not yet adopted blockchain education strategies.The article discusses the potential uses and benefits of blockchain technology in the education sector, particularly in managing data and issuing and verifying educational certificates. It also highlights the importance of universities adapting to this technology and its potential to reduce administrative costs and bureaucracy. The article also mentions the potential applications of blockchain in other industries, such as logistics and retail. Overall, the article suggests that blockchain technology has the potential to significantly impact the education sector and streamline various processes.The use of blockchain technology in education management is increasing. It helps in the secure storage and sharing of data, reduces fraud, and lowers administrative costs. Many studies have been conducted exploring the different applications of blockchain in the education sector, including student records management, credential verification, and learning analytics. The technology offers several benefits, such as high security, better control over data access, trust, low cost, identity verification, and efficient data management. The studies highlight the importance of blockchain technology in solving scalability issues, privacy concerns, and reliability problems.The article discusses the potential benefits of adopting blockchain technology in education, including increased security and transparency of student records, and the elimination of paper-based systems. However, the article also points out several barriers to adoption, such as the cost of implementation and the scalability of the technology. Additionally, constant updates and adding new features can create security issues and data leakage. Overall, the article highlights the potential advantages of blockchain in the education sector but acknowledges that its implementation may face challenges.The education sector is facing challenges when it comes to trusting blockchain technology, as malicious attacks and data leakage can be a threat. Educational institutions are struggling to share all data on a blockchain network and cannot decide which type of data and services to offer. Additionally, the blockchain system requires extensive process alteration in the institutions' set procedures. However, there are various potential applications of blockchain technology in the education sector, including certificates management, digital guardianship consent, collaborative learning environment, competencies and learning outcomes management, and online education. Blockchain technology is mainly utilized for academic degree management, where it is used to manage digital certificates of students' academic credentials like marks sheet, transcripts, certificates, and achievement records. These certificates have a high level of trust and privacy, and students can share them directly with anyone for verification.The use of blockchain technology in the education domain has several learning objectives, including the evaluation of students' professional capabilities and strengthening the examination and online quiz systems. It can also be used for the better administration of admission processes, assessing extracurricular activities, managing libraries and information services, and protecting intellectual property rights for teachers and researchers. Blockchain technology can make many processes faster, easier, and safer, providing fraud resistance and encouraging mobile learning styles among students. The technology can also improve communication networks among various stakeholders of an educational institution.The paper discusses the potential of blockchain technology in the education sector. It highlights the current development, benefits, challenges, and applications of the technology in education. Some of the applications of blockchain in education include certificates management, digital guardianship consent, collaborative learning environment, research, and intellectual property protection. However, barriers like scalability, security, and cost still need attention. The study provides practical implications for education institutions to build a clear strategy around the implementation of blockchain technology.Sure, this is a research paper that discusses the potential of blockchain technology in education institutions. The research explores how blockchain can be implemented to provide security, safety, and sustainability to the education system. The paper also highlights the limitations of systematic review methodology and the need for future integrated research to explore more potential uses of blockchain technology in education. The study recommends collaboration with the IT sector to design the IT architecture and framework for exploring more potential uses of blockchain technology in the education sector. The paper provides a comprehensive list of references for readers who want to explore the topic in more detail.These are a list of academic articles related to the use of blockchain technology in education, covering topics such as digitalization, learning environments, school information hubs, learning outcomes, higher education, marketing education, health professions education, student data privacy, and lifelong learning passports. The articles discuss the potential for blockchain to improve trust, validity, and accountability in information exchange, and to provide a secure and decentralized platform for records management.The article is a literature review that examines various research studies on the use of blockchain technology in the education sector. The studies cover topics such as authenticity and verification of educational records, digital credentialing and certification, intellectual property management, and fraud prevention in financial aid services. The review includes insights into the potential benefits and challenges of blockchain technology in education, such as increased transparency, security, and efficiency, as well as concerns around privacy, control, and scalability. The article suggests that innovative approaches to logistics education are needed to incorporate the use of emerging technologies such as blockchain and the Internet of Things.The list provided includes various academic articles that discuss the potential use and impact of blockchain technology in different fields such as healthcare, education, banking, tourism, and supply chain management. The articles examine the benefits and challenges of implementing blockchain in these areas and provide case studies and systematic literature reviews to support their arguments. Some of the topics covered include decentralized applications for exam reviews, lifelong learning, academic management systems, kudos and reward systems, and copyright issues related to blockchain.The article provides a review of various studies focused on exploring the use of blockchain technology in education. The authors highlight the potential benefits of using blockchain in education, such as increasing security, transparency, and accountability in academic records and facilitating peer-to-peer transactions. The authors also discuss different applications of blockchain technology in education, including student competency evaluation, e-learning, and educational certificate management. The article concludes that there is significant potential for blockchain technology to transform the education sector, but further research is needed to fully understand its capabilities and limitations.\""
      ]
     },
     "execution_count": 26,
     "metadata": {},
     "output_type": "execute_result"
    }
   ],
   "source": [
    "#把分段的資料合起來\n",
    "data1=''\n",
    "for i in range(slice_count):\n",
    "    data1 += data[i]\n",
    "data1"
   ]
  },
  {
   "cell_type": "code",
   "execution_count": 13,
   "id": "8d6b034b",
   "metadata": {},
   "outputs": [],
   "source": [
    "import gensim\n",
    "from gensim import corpora\n",
    "from pprint import pprint"
   ]
  },
  {
   "cell_type": "code",
   "execution_count": 31,
   "id": "bc2cce61",
   "metadata": {},
   "outputs": [],
   "source": [
    "# 創建詞袋\n",
    "texts = [[word for word in document.lower().split()] for document in data]\n",
    "dictionary = corpora.Dictionary(texts)\n",
    "corpus = [dictionary.doc2bow(text) for text in texts]"
   ]
  },
  {
   "cell_type": "code",
   "execution_count": 32,
   "id": "68d6e224",
   "metadata": {},
   "outputs": [],
   "source": [
    "# 訓練 LDA 模型\n",
    "lda_model = gensim.models.ldamodel.LdaModel(corpus=corpus, id2word=dictionary, \n",
    "                                            num_topics=3, random_state=100, update_every=1, \n",
    "                                            chunksize=100, passes=10, alpha='auto', per_word_topics=True)"
   ]
  },
  {
   "cell_type": "code",
   "execution_count": 33,
   "id": "748ddac7",
   "metadata": {},
   "outputs": [
    {
     "name": "stderr",
     "output_type": "stream",
     "text": [
      "C:\\Users\\hcgs6\\AppData\\Roaming\\Python\\Python310\\site-packages\\pyLDAvis\\_prepare.py:244: FutureWarning: In a future version of pandas all arguments of DataFrame.drop except for the argument 'labels' will be keyword-only.\n",
      "  by='saliency', ascending=False).head(R).drop('saliency', 1)\n"
     ]
    },
    {
     "data": {
      "text/html": [
       "\n",
       "<link rel=\"stylesheet\" type=\"text/css\" href=\"https://cdn.jsdelivr.net/gh/bmabey/pyLDAvis@3.4.0/pyLDAvis/js/ldavis.v1.0.0.css\">\n",
       "\n",
       "\n",
       "<div id=\"ldavis_el459227485549057446799157403\" style=\"background-color:white;\"></div>\n",
       "<script type=\"text/javascript\">\n",
       "\n",
       "var ldavis_el459227485549057446799157403_data = {\"mdsDat\": {\"x\": [-0.03482157567271341, -0.06491676981985638, 0.09973834549256987], \"y\": [0.05852008660167677, -0.0478239514439968, -0.010696135157679901], \"topics\": [1, 2, 3], \"cluster\": [1, 1, 1], \"Freq\": [50.42092800993721, 45.88362096234153, 3.6954510277212678]}, \"tinfo\": {\"Term\": [\"study\", \"systematic\", \"by\", \"literature\", \"present\", \"using\", \"sector.\", \"a\", \"paper\", \"learning,\", \"inclusion\", \"terms\", \"reviews\", \"at\", \"search\", \"insights\", \"activities\", \"for\", \"researchers\", \"this\", \"teaching\", \"concludes\", \"benefit\", \"how\", \"institutions,\", \"challenges,\", \"where\", \"administration\", \"explores\", \"higher\", \"has\", \"several\", \"their\", \"systems.\", \"security\", \"new\", \"overall,\", \"certificates.\", \"analyzed\", \"application\", \"objectives,\", \"transparency\", \"administrative\", \"managing\", \"findings\", \"impact\", \"tourism,\", \"relatively\", \"issues\", \"scalability\", \"an\", \"credit\", \"importance\", \"make\", \"many\", \"records,\", \"been\", \"management\", \"conducted\", \"increased\", \"such\", \"that\", \"article\", \"and\", \"as\", \"the\", \"various\", \"studies\", \"in\", \"of\", \"blockchain\", \"technology\", \"also\", \"use\", \"education\", \"its\", \"articles\", \"is\", \"implementation\", \"it\", \"education,\", \"different\", \"potential\", \"benefits\", \"including\", \"to\", \"data\", \"applications\", \"can\", \"literature\", \"for\", \"a\", \"on\", \"paper\", \"provides\", \"more\", \"certificates\", \"where\", \"explore\", \"there\", \"need\", \"implemented\", \"authors\", \"explores\", \"future\", \"accountability\", \"shows\", \"identifying\", \"technology,\", \"consent,\", \"collaborative\", \"share\", \"like\", \"institutions\", \"guardianship\", \"research,\", \"environment,\", \"education.\", \"study\", \"a\", \"higher\", \"outcomes,\", \"exchange,\", \"for\", \"sector.\", \"to\", \"the\", \"blockchain\", \"of\", \"education\", \"technology\", \"review\", \"and\", \"is\", \"research\", \"potential\", \"learning\", \"in\", \"management,\", \"on\", \"be\", \"can\", \"applications\", \"data\", \"education,\", \"it\", \"as\", \"that\", \"activities\", \"offering\", \"universities.\", \"criteria\", \"consideration.\", \"steps\", \"conducting\", \"reporting\", \"exclusion\", \"followed\", \"scenario\", \"detailed\", \"managers,\", \"academicians,\", \"understanding\", \"items\", \"applications,\", \"schools,\", \"policy-makers,\", \"involved\", \"diagram\", \"mentioning\", \"preferred\", \"clearly\", \"meta-analyses\", \"facilitate\", \"aims\", \"(prisma)\", \"under\", \"colleges,\", \"systematic\", \"study\", \"using\", \"present\", \"the\", \"and\", \"by\", \"literature\", \"learning,\"], \"Freq\": [4.0, 4.0, 4.0, 6.0, 2.0, 2.0, 4.0, 19.0, 6.0, 1.0, 1.0, 1.0, 1.0, 1.0, 1.0, 1.0, 1.0, 15.0, 2.0, 2.0, 1.0, 2.0, 1.0, 1.0, 1.0, 1.0, 3.0, 2.0, 2.0, 1.0, 3.5235033902284636, 2.7114163904320483, 2.7095474429812105, 2.7092104041588185, 1.899230795898707, 1.8984969179912192, 1.898636767339758, 1.8979327895636222, 1.8976078621868413, 1.8976091868762048, 1.8977070246477807, 1.8974560906340292, 1.8978866146772304, 1.8976184597017507, 1.8973376255566472, 1.8958055276868635, 1.8966141559227312, 1.896937001644798, 1.8961783331220752, 1.8963433515685242, 1.896365303563694, 1.8959221003508688, 1.8955843045631262, 1.8958768716711654, 1.8954821142407838, 1.895649971307298, 1.8946842727611632, 1.8940493680732775, 1.8946617530419805, 1.8954179614273134, 7.572181771107733, 9.208995956608954, 8.404778557839583, 40.982546153777335, 9.190497237368946, 53.234054577483356, 5.146541184829918, 5.1305272043535295, 23.08346609989868, 26.33228114670571, 21.45517912907291, 16.550509947298913, 5.15858563900732, 5.150214737676785, 10.050054858996097, 3.528483086787936, 3.5205281379176014, 7.603590534403649, 2.7188492224517486, 5.1614034425252395, 5.149316219805524, 2.709883535596914, 6.7960417311259205, 3.5256747453368993, 3.5294379985778233, 7.602579228695136, 4.3479283575170085, 4.35015534957872, 4.350978549397588, 3.530022754311226, 4.385516607453231, 4.374842260560566, 3.535273065983568, 5.808879026359951, 4.280176401417153, 3.478353871959502, 3.478731360183273, 3.3263105015524754, 2.676425604468368, 2.675311394245832, 2.6747711658890942, 2.4540884849029205, 2.441845604973942, 2.4267521034354376, 2.4280521301695828, 1.8758707259300496, 1.8744870042703783, 1.8734861093996864, 1.874631662166349, 1.8737941962757476, 1.873693796807473, 1.8743447573393406, 1.8730252706739516, 1.8727187337039186, 1.8728422095508364, 1.8710935711274013, 1.8709849054936423, 5.819669127705111, 3.666483876634205, 14.523681687027825, 1.4715705055645507, 1.0733846644805238, 1.073380961927234, 11.179788362643684, 3.630175778016269, 15.53297911493419, 50.598091673647495, 23.340678262727693, 25.55256637683059, 12.751023164390334, 17.53598536033828, 5.563482404906105, 32.05385042225384, 9.890235549013735, 4.3049377001245785, 9.064591652748906, 5.117907842584573, 19.122250117476277, 5.018408353076812, 5.533683911606845, 4.170819853993242, 5.503683586100351, 5.089122643404233, 5.015246200355607, 5.1139321614103155, 5.0959935490392745, 4.340258680814296, 3.5147890628717553, 0.5371355842626505, 0.30733986965994453, 0.306877447943533, 0.30673650224820687, 0.3066022973133539, 0.30652251777787703, 0.30650678933677294, 0.3064998821377696, 0.3064726694380815, 0.3064569964764875, 0.3063674248074837, 0.30636159945892666, 0.3062509733158523, 0.30623050137663743, 0.3061964646972111, 0.30614495197211355, 0.3060788203961133, 0.30594012162094486, 0.3058433376156323, 0.3058003964748402, 0.3057009217132894, 0.30569709362709474, 0.3055834438507218, 0.305545745523631, 0.3055035256164697, 0.3054853283371676, 0.3054384481511607, 0.30542671423478146, 0.3051696499248843, 0.30511749918542097, 0.68366923132229, 0.7250391369098137, 0.4451008746696917, 0.44309185065113227, 0.692719215443009, 0.4651950261607462, 0.35504503598157083, 0.33301725712613844, 0.30591584933529037], \"Total\": [4.0, 4.0, 4.0, 6.0, 2.0, 2.0, 4.0, 19.0, 6.0, 1.0, 1.0, 1.0, 1.0, 1.0, 1.0, 1.0, 1.0, 15.0, 2.0, 2.0, 1.0, 2.0, 1.0, 1.0, 1.0, 1.0, 3.0, 2.0, 2.0, 1.0, 3.8790746684749857, 3.064822719599435, 3.063396149390827, 3.0638918016506853, 2.2494077458406, 2.249316248941912, 2.24952332719045, 2.249117961859304, 2.248761648795576, 2.2489681299931688, 2.2490891544165925, 2.2488207031859395, 2.2494497972550107, 2.2492415303685718, 2.249170298994121, 2.2475132045457684, 2.2485758730798406, 2.2490526980678607, 2.2482989415724584, 2.2490605287733407, 2.2491080499410945, 2.249045203833851, 2.2486520871743934, 2.2491982034821754, 2.249195219879972, 2.2495442271437622, 2.2485145837564917, 2.247984066282358, 2.248817695183777, 2.2497443136965023, 9.564069418216919, 12.80562038981276, 11.989997187309937, 73.50159160219191, 13.61217250836849, 104.52486546657386, 7.120378719636611, 7.1173710319981325, 42.43363261905364, 52.12132635540123, 44.967388483320924, 34.30934519562763, 7.926179405470472, 8.630206977023583, 23.0023295161896, 5.488592202110087, 5.4884873043339, 17.588879162690496, 3.8696561676316494, 10.339296953916161, 10.343392812365362, 3.86842564999148, 15.95917566662522, 6.118930512443658, 6.2957266226845015, 23.23019681758877, 9.468100840106704, 9.52192775397822, 10.051639500715396, 6.49020736357459, 15.741812240793221, 19.042728107109443, 9.25717508518978, 6.201217878650597, 4.644362448160159, 3.839594169788886, 3.840984919883129, 3.7312055013376866, 3.0343749017809354, 3.0352791258610523, 3.0349598769367607, 2.880570227218045, 2.873102666816386, 2.8585006193604308, 2.8607152214590874, 2.2300459256744114, 2.229213244498159, 2.2280703378109754, 2.2295991210104598, 2.2295058612140397, 2.22949245329184, 2.2302901989708874, 2.229458929335942, 2.229336488982379, 2.229579075684642, 2.2294547237029443, 2.229560401635089, 7.020607839181306, 4.6991003896597965, 19.042728107109443, 1.9476848744979185, 1.4247497686511852, 1.4247469110147923, 15.741812240793221, 4.990405547683578, 23.23019681758877, 104.52486546657386, 44.967388483320924, 52.12132635540123, 23.0023295161896, 34.30934519562763, 8.457282727402776, 73.50159160219191, 17.588879162690496, 6.275782942616451, 15.95917566662522, 7.89850447386054, 42.43363261905364, 7.8426474892274465, 9.25717508518978, 6.192370319672726, 10.051639500715396, 9.52192775397822, 9.468100840106704, 10.343392812365362, 10.339296953916161, 13.61217250836849, 12.80562038981276, 1.1237578212993111, 0.8727396886652589, 0.8738476299455582, 0.8741981648927968, 0.8745193846755972, 0.8747312121939315, 0.8747603165270554, 0.8747685065564162, 0.8748382607563071, 0.8748837587081972, 0.8751062265876905, 0.8751132072734025, 0.8753830023048341, 0.8754275344642541, 0.8755053170008285, 0.8756478525792308, 0.8758021156404676, 0.8761370287400008, 0.8763629669818758, 0.8764598571562923, 0.876696592854213, 0.8767241451248494, 0.8769879972725166, 0.8770753544810794, 0.87717315051747, 0.8772261000644452, 0.8773401945044579, 0.8773892448661609, 0.878006212239967, 0.878123097312321, 4.012541033222299, 4.6991003896597965, 2.151736916789801, 2.1564727057352266, 104.52486546657386, 73.50159160219191, 4.805985966767196, 6.49020736357459, 1.6916532129692001], \"Category\": [\"Default\", \"Default\", \"Default\", \"Default\", \"Default\", \"Default\", \"Default\", \"Default\", \"Default\", \"Default\", \"Default\", \"Default\", \"Default\", \"Default\", \"Default\", \"Default\", \"Default\", \"Default\", \"Default\", \"Default\", \"Default\", \"Default\", \"Default\", \"Default\", \"Default\", \"Default\", \"Default\", \"Default\", \"Default\", \"Default\", \"Topic1\", \"Topic1\", \"Topic1\", \"Topic1\", \"Topic1\", \"Topic1\", \"Topic1\", \"Topic1\", \"Topic1\", \"Topic1\", \"Topic1\", \"Topic1\", \"Topic1\", \"Topic1\", \"Topic1\", \"Topic1\", \"Topic1\", \"Topic1\", \"Topic1\", \"Topic1\", \"Topic1\", \"Topic1\", \"Topic1\", \"Topic1\", \"Topic1\", \"Topic1\", \"Topic1\", \"Topic1\", \"Topic1\", \"Topic1\", \"Topic1\", \"Topic1\", \"Topic1\", \"Topic1\", \"Topic1\", \"Topic1\", \"Topic1\", \"Topic1\", \"Topic1\", \"Topic1\", \"Topic1\", \"Topic1\", \"Topic1\", \"Topic1\", \"Topic1\", \"Topic1\", \"Topic1\", \"Topic1\", \"Topic1\", \"Topic1\", \"Topic1\", \"Topic1\", \"Topic1\", \"Topic1\", \"Topic1\", \"Topic1\", \"Topic1\", \"Topic1\", \"Topic1\", \"Topic1\", \"Topic1\", \"Topic1\", \"Topic1\", \"Topic2\", \"Topic2\", \"Topic2\", \"Topic2\", \"Topic2\", \"Topic2\", \"Topic2\", \"Topic2\", \"Topic2\", \"Topic2\", \"Topic2\", \"Topic2\", \"Topic2\", \"Topic2\", \"Topic2\", \"Topic2\", \"Topic2\", \"Topic2\", \"Topic2\", \"Topic2\", \"Topic2\", \"Topic2\", \"Topic2\", \"Topic2\", \"Topic2\", \"Topic2\", \"Topic2\", \"Topic2\", \"Topic2\", \"Topic2\", \"Topic2\", \"Topic2\", \"Topic2\", \"Topic2\", \"Topic2\", \"Topic2\", \"Topic2\", \"Topic2\", \"Topic2\", \"Topic2\", \"Topic2\", \"Topic2\", \"Topic2\", \"Topic2\", \"Topic2\", \"Topic2\", \"Topic2\", \"Topic2\", \"Topic2\", \"Topic2\", \"Topic2\", \"Topic2\", \"Topic2\", \"Topic2\", \"Topic2\", \"Topic3\", \"Topic3\", \"Topic3\", \"Topic3\", \"Topic3\", \"Topic3\", \"Topic3\", \"Topic3\", \"Topic3\", \"Topic3\", \"Topic3\", \"Topic3\", \"Topic3\", \"Topic3\", \"Topic3\", \"Topic3\", \"Topic3\", \"Topic3\", \"Topic3\", \"Topic3\", \"Topic3\", \"Topic3\", \"Topic3\", \"Topic3\", \"Topic3\", \"Topic3\", \"Topic3\", \"Topic3\", \"Topic3\", \"Topic3\", \"Topic3\", \"Topic3\", \"Topic3\", \"Topic3\", \"Topic3\", \"Topic3\", \"Topic3\", \"Topic3\", \"Topic3\"], \"logprob\": [30.0, 29.0, 28.0, 27.0, 26.0, 25.0, 24.0, 23.0, 22.0, 21.0, 20.0, 19.0, 18.0, 17.0, 16.0, 15.0, 14.0, 13.0, 12.0, 11.0, 10.0, 9.0, 8.0, 7.0, 6.0, 5.0, 4.0, 3.0, 2.0, 1.0, -5.441, -5.703, -5.7037, -5.7038, -6.059, -6.0594, -6.0593, -6.0597, -6.0599, -6.0599, -6.0598, -6.06, -6.0597, -6.0599, -6.06, -6.0608, -6.0604, -6.0602, -6.0606, -6.0605, -6.0605, -6.0608, -6.0609, -6.0608, -6.061, -6.0609, -6.0614, -6.0618, -6.0614, -6.061, -4.676, -4.4803, -4.5717, -2.9873, -4.4823, -2.7258, -5.0621, -5.0653, -3.5614, -3.4297, -3.6345, -3.8941, -5.0598, -5.0614, -4.3929, -5.4396, -5.4419, -4.6718, -5.7003, -5.0593, -5.0616, -5.7036, -4.7841, -5.4404, -5.4393, -4.672, -5.2308, -5.2303, -5.2301, -5.4392, -5.2222, -5.2246, -5.4377, -4.8468, -5.1522, -5.3596, -5.3595, -5.4043, -5.6217, -5.6221, -5.6223, -5.7084, -5.7134, -5.7196, -5.7191, -5.9771, -5.9778, -5.9784, -5.9778, -5.9782, -5.9783, -5.9779, -5.9786, -5.9788, -5.9787, -5.9796, -5.9797, -4.8449, -5.3069, -3.9304, -6.2198, -6.5354, -6.5354, -4.1921, -5.3169, -3.8632, -2.6823, -3.456, -3.3654, -4.0606, -3.7419, -4.8899, -3.1388, -4.3146, -5.1464, -4.4018, -4.9734, -3.6553, -4.9931, -4.8953, -5.1781, -4.9008, -4.9791, -4.9937, -4.9742, -4.9777, -5.1382, -5.3492, -4.7087, -5.267, -5.2685, -5.2689, -5.2694, -5.2696, -5.2697, -5.2697, -5.2698, -5.2698, -5.2701, -5.2702, -5.2705, -5.2706, -5.2707, -5.2709, -5.2711, -5.2715, -5.2718, -5.272, -5.2723, -5.2723, -5.2727, -5.2728, -5.273, -5.273, -5.2732, -5.2732, -5.2741, -5.2742, -4.4674, -4.4087, -4.8966, -4.9011, -4.4543, -4.8525, -5.1227, -5.1867, -5.2716], \"loglift\": [30.0, 29.0, 28.0, 27.0, 26.0, 25.0, 24.0, 23.0, 22.0, 21.0, 20.0, 19.0, 18.0, 17.0, 16.0, 15.0, 14.0, 13.0, 12.0, 11.0, 10.0, 9.0, 8.0, 7.0, 6.0, 5.0, 4.0, 3.0, 2.0, 1.0, 0.5886, 0.5622, 0.562, 0.5617, 0.5155, 0.5152, 0.5152, 0.515, 0.515, 0.5149, 0.5149, 0.5149, 0.5148, 0.5148, 0.5147, 0.5146, 0.5145, 0.5145, 0.5144, 0.5142, 0.5142, 0.514, 0.514, 0.5139, 0.5137, 0.5136, 0.5135, 0.5134, 0.5134, 0.5134, 0.4512, 0.3551, 0.3295, 0.1006, 0.292, 0.01, 0.3601, 0.3574, 0.0759, 0.002, -0.0552, -0.0442, 0.2553, 0.1685, -0.1433, 0.243, 0.2407, -0.1539, 0.3318, -0.01, -0.0127, 0.3288, -0.1689, 0.1334, 0.106, -0.4322, -0.0935, -0.0986, -0.1526, 0.0758, -0.5932, -0.7861, -0.2778, 0.7137, 0.6974, 0.6803, 0.68, 0.6642, 0.6535, 0.6528, 0.6527, 0.6188, 0.6164, 0.6153, 0.6151, 0.6061, 0.6057, 0.6057, 0.6057, 0.6052, 0.6052, 0.6052, 0.6049, 0.6047, 0.6047, 0.6038, 0.6037, 0.5915, 0.5309, 0.5082, 0.4988, 0.4959, 0.4959, 0.4368, 0.4608, 0.3766, 0.0536, 0.1233, 0.0662, 0.1891, 0.1079, 0.3603, -0.0508, 0.2033, 0.4021, 0.2134, 0.3451, -0.018, 0.3326, 0.2645, 0.3839, 0.1767, 0.1526, 0.1436, 0.0747, 0.0716, -0.364, -0.5138, 2.5599, 2.2544, 2.2516, 2.2507, 2.2499, 2.2494, 2.2494, 2.2493, 2.2492, 2.2491, 2.2485, 2.2485, 2.2478, 2.2477, 2.2475, 2.2472, 2.2468, 2.2459, 2.2454, 2.2451, 2.2445, 2.2445, 2.2438, 2.2436, 2.2433, 2.2432, 2.2429, 2.2428, 2.2413, 2.241, 1.5284, 1.4292, 1.7223, 1.7156, -1.7185, -1.7645, 0.6927, 0.3282, 1.5879]}, \"token.table\": {\"Topic\": [1, 2, 2, 3, 1, 2, 1, 1, 2, 1, 1, 1, 2, 1, 1, 2, 1, 2, 1, 2, 1, 2, 1, 2, 1, 2, 1, 2, 1, 2, 1, 2, 1, 2, 1, 2, 2, 1, 2, 2, 1, 2, 1, 2, 1, 1, 2, 1, 2, 1, 2, 1, 2, 1, 2, 2, 2, 2, 2, 1, 1, 2, 2, 2, 1, 2, 2, 2, 1, 1, 2, 2, 1, 1, 2, 1, 2, 1, 1, 1, 2, 2, 1, 2, 1, 1, 2, 1, 2, 1, 2, 1, 2, 1, 2, 1, 1, 1, 2, 1, 1, 2, 2, 1, 1, 1, 2, 1, 2, 2, 1, 2, 1, 2, 2, 2, 1, 1, 1, 2, 2, 1, 2, 1, 2, 1, 1, 1, 1, 2, 1, 1, 2, 2, 1, 2, 2, 3, 1, 2, 1, 2, 3, 1, 2, 1, 2, 2, 1, 1, 2, 1, 2, 3, 1, 2, 1, 2, 1, 2, 1, 1, 1, 2, 2, 1, 2, 2], \"Freq\": [0.2100539364686215, 0.7877022617573306, 0.8968425165482452, 0.8898714483195144, 0.36368947765422, 0.36368947765422, 0.8891063061023132, 0.6308209471702233, 0.37849256830213396, 0.8892414039656215, 0.8893783834632669, 0.5578110501593183, 0.43536472207556554, 0.8892967282760361, 0.4200830024496686, 0.5251037530620858, 0.6672228420926654, 0.3336114210463327, 0.7287982604681368, 0.3643991302340684, 0.6611729313940873, 0.2938546361751499, 0.5891028118534146, 0.6961115671568223, 0.32297809994440096, 0.6459561998888019, 0.889476107670465, 0.5267849095187257, 0.6537090087663961, 0.3268545043831981, 0.46700510543967244, 0.5114817821482127, 0.416147698688626, 0.624221548032939, 0.3979450317249551, 0.5969175475874327, 0.7810496689196276, 0.8892374850568697, 0.5221965466158848, 0.8970651580573887, 0.36646425574873087, 0.36646425574873087, 0.8893562178398622, 0.8970597632387177, 0.8892662524482327, 0.42247120806488164, 0.5280890100811021, 0.7755092824406764, 0.25850309414689215, 0.4347385769324692, 0.56516015001221, 0.4834003784544061, 0.4834003784544061, 0.14243780921918195, 0.8546268553150916, 0.8970378189948401, 0.7018790441087803, 0.9886715047106539, 0.6996675062632961, 0.889216792918902, 0.25410034999873954, 0.6987759624965337, 0.6991258636991886, 0.897030305770095, 1.031173757109593, 0.5134300795234054, 0.5258012164921111, 0.8976377298595299, 0.8898724136324744, 0.7752626771065538, 0.2584208923688513, 0.6943069747449034, 0.889421716862014, 0.5420228856313493, 0.44775803595633196, 0.6353516027184798, 0.47651370203885984, 0.5900514018745668, 0.8889899122420035, 0.5819685694319918, 0.8971279167071528, 0.5237681417382728, 0.45483284784681377, 0.5685410598085172, 0.8895614204226782, 0.4835918749878033, 0.4835918749878033, 0.7287843317020715, 0.36439216585103573, 0.3798187378292, 0.6330312297153334, 0.5911377061997204, 0.8970786470579712, 0.6163131277514272, 0.46223484581357044, 0.8892057609256622, 0.8896860213549174, 0.38252388675135013, 0.6375398112522502, 0.8891886322551896, 0.8892069404747934, 0.7813325750947658, 0.9884809426304356, 0.8891590948764135, 0.8892488748489805, 0.4988361160019803, 0.4988361160019803, 0.43209726111796837, 0.6481458916769526, 0.7018776363422069, 0.8890772439767971, 0.9675518772944028, 0.43861914588977285, 0.5639389018582794, 0.4637202211465322, 0.8612592244140163, 0.8890689837822804, 0.889263289258709, 0.31868533668026694, 0.6373706733605339, 0.8970803393029492, 0.36941674167371985, 0.36941674167371985, 0.35472386305350556, 0.7094477261070111, 0.5897070825622603, 0.8892601930508377, 0.5880708608523824, 0.20038451593662066, 0.8015380637464826, 0.8891229274453322, 0.9788494390931991, 0.8967442895650309, 0.8971775154019598, 0.7025065824896722, 0.2810026329958689, 0.8512267600840914, 0.21280669002102284, 0.8364640249015971, 0.20911600622539928, 0.49843727040814484, 0.24921863520407242, 0.24921863520407242, 0.9791468479349489, 0.5297231020275269, 0.49549182308983486, 0.5246384009186487, 0.8970222409728952, 0.5901684274695058, 0.7028163982714777, 0.3123628436762123, 0.5070563809235319, 0.48792217786981373, 0.009567101526859093, 0.9793052722210174, 0.9883769747696451, 0.3672334704715031, 0.3672334704715031, 0.3443793465384155, 0.688758693076831, 0.8894518632634042, 0.889355028245057, 0.5793603807314964, 0.34761622843889783, 0.4647408296976707, 0.7022098397955966, 0.2808839359182386, 0.8040296893120629], \"Term\": [\"a\", \"a\", \"accountability\", \"activities\", \"administration\", \"administration\", \"administrative\", \"also\", \"also\", \"an\", \"analyzed\", \"and\", \"and\", \"application\", \"applications\", \"applications\", \"article\", \"article\", \"articles\", \"articles\", \"as\", \"as\", \"at\", \"authors\", \"be\", \"be\", \"been\", \"benefit\", \"benefits\", \"benefits\", \"blockchain\", \"blockchain\", \"by\", \"by\", \"can\", \"can\", \"certificates\", \"certificates.\", \"challenges,\", \"collaborative\", \"concludes\", \"concludes\", \"conducted\", \"consent,\", \"credit\", \"data\", \"data\", \"different\", \"different\", \"education\", \"education\", \"education,\", \"education,\", \"education.\", \"education.\", \"environment,\", \"exchange,\", \"explore\", \"explores\", \"findings\", \"for\", \"for\", \"future\", \"guardianship\", \"has\", \"higher\", \"how\", \"identifying\", \"impact\", \"implementation\", \"implementation\", \"implemented\", \"importance\", \"in\", \"in\", \"including\", \"including\", \"inclusion\", \"increased\", \"insights\", \"institutions\", \"institutions,\", \"is\", \"is\", \"issues\", \"it\", \"it\", \"its\", \"its\", \"learning\", \"learning\", \"learning,\", \"like\", \"literature\", \"literature\", \"make\", \"management\", \"management,\", \"management,\", \"managing\", \"many\", \"more\", \"need\", \"new\", \"objectives,\", \"of\", \"of\", \"on\", \"on\", \"outcomes,\", \"overall,\", \"paper\", \"potential\", \"potential\", \"present\", \"provides\", \"records,\", \"relatively\", \"research\", \"research\", \"research,\", \"researchers\", \"researchers\", \"review\", \"review\", \"reviews\", \"scalability\", \"search\", \"sector.\", \"sector.\", \"security\", \"several\", \"share\", \"shows\", \"studies\", \"studies\", \"study\", \"study\", \"such\", \"such\", \"systematic\", \"systematic\", \"systematic\", \"systems.\", \"teaching\", \"technology\", \"technology\", \"technology,\", \"terms\", \"that\", \"that\", \"the\", \"the\", \"the\", \"their\", \"there\", \"this\", \"this\", \"to\", \"to\", \"tourism,\", \"transparency\", \"use\", \"use\", \"using\", \"various\", \"various\", \"where\"]}, \"R\": 30, \"lambda.step\": 0.01, \"plot.opts\": {\"xlab\": \"PC1\", \"ylab\": \"PC2\"}, \"topic.order\": [2, 3, 1]};\n",
       "\n",
       "function LDAvis_load_lib(url, callback){\n",
       "  var s = document.createElement('script');\n",
       "  s.src = url;\n",
       "  s.async = true;\n",
       "  s.onreadystatechange = s.onload = callback;\n",
       "  s.onerror = function(){console.warn(\"failed to load library \" + url);};\n",
       "  document.getElementsByTagName(\"head\")[0].appendChild(s);\n",
       "}\n",
       "\n",
       "if(typeof(LDAvis) !== \"undefined\"){\n",
       "   // already loaded: just create the visualization\n",
       "   !function(LDAvis){\n",
       "       new LDAvis(\"#\" + \"ldavis_el459227485549057446799157403\", ldavis_el459227485549057446799157403_data);\n",
       "   }(LDAvis);\n",
       "}else if(typeof define === \"function\" && define.amd){\n",
       "   // require.js is available: use it to load d3/LDAvis\n",
       "   require.config({paths: {d3: \"https://d3js.org/d3.v5\"}});\n",
       "   require([\"d3\"], function(d3){\n",
       "      window.d3 = d3;\n",
       "      LDAvis_load_lib(\"https://cdn.jsdelivr.net/gh/bmabey/pyLDAvis@3.4.0/pyLDAvis/js/ldavis.v3.0.0.js\", function(){\n",
       "        new LDAvis(\"#\" + \"ldavis_el459227485549057446799157403\", ldavis_el459227485549057446799157403_data);\n",
       "      });\n",
       "    });\n",
       "}else{\n",
       "    // require.js not available: dynamically load d3 & LDAvis\n",
       "    LDAvis_load_lib(\"https://d3js.org/d3.v5.js\", function(){\n",
       "         LDAvis_load_lib(\"https://cdn.jsdelivr.net/gh/bmabey/pyLDAvis@3.4.0/pyLDAvis/js/ldavis.v3.0.0.js\", function(){\n",
       "                 new LDAvis(\"#\" + \"ldavis_el459227485549057446799157403\", ldavis_el459227485549057446799157403_data);\n",
       "            })\n",
       "         });\n",
       "}\n",
       "</script>"
      ],
      "text/plain": [
       "<IPython.core.display.HTML object>"
      ]
     },
     "execution_count": 33,
     "metadata": {},
     "output_type": "execute_result"
    }
   ],
   "source": [
    "# 輸出主題模型分析結果\n",
    "import pyLDAvis.gensim\n",
    "pyLDAvis.enable_notebook()\n",
    "vis = pyLDAvis.gensim.prepare(lda_model, corpus, dictionary)\n",
    "pyLDAvis.display(vis)"
   ]
  }
 ],
 "metadata": {
  "kernelspec": {
   "display_name": "Python 3 (ipykernel)",
   "language": "python",
   "name": "python3"
  },
  "language_info": {
   "codemirror_mode": {
    "name": "ipython",
    "version": 3
   },
   "file_extension": ".py",
   "mimetype": "text/x-python",
   "name": "python",
   "nbconvert_exporter": "python",
   "pygments_lexer": "ipython3",
   "version": "3.10.9"
  }
 },
 "nbformat": 4,
 "nbformat_minor": 5
}
