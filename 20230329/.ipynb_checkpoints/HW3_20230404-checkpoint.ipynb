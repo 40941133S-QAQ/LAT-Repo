{
 "cells": [
  {
   "cell_type": "code",
   "execution_count": 14,
   "id": "a78e9121",
   "metadata": {},
   "outputs": [],
   "source": [
    "import openai\n",
    "import pandas as pd"
   ]
  },
  {
   "cell_type": "code",
   "execution_count": 52,
   "id": "2eacdb42",
   "metadata": {
    "scrolled": false
   },
   "outputs": [],
   "source": [
    "with open(r\"C:\\Users\\hcgs6\\OneDrive\\LAT-Repo\\20230329\\作業文本\\United Nations Speech.txt\", encoding='utf-8') as fh:\n",
    "    tmp = fh.read()\n",
    "    itemlist = tmp.split(',')"
   ]
  },
  {
   "cell_type": "code",
   "execution_count": 53,
   "id": "73bae933",
   "metadata": {},
   "outputs": [
    {
     "name": "stdout",
     "output_type": "stream",
     "text": [
      "文本長度： 8466\n",
      "需要切成的組數： 3\n"
     ]
    }
   ],
   "source": [
    "itemlist = str(itemlist)\n",
    "text_length = len(tmp)\n",
    "slice_count = (text_length + 3199) // 3200\n",
    "\n",
    "print(\"文本長度：\", text_length)\n",
    "print(\"需要切成的組數：\", slice_count)"
   ]
  },
  {
   "cell_type": "code",
   "execution_count": 17,
   "id": "58b91f9c",
   "metadata": {},
   "outputs": [],
   "source": [
    "keyfile = open(\"D:\\Desktop\\程式\\chat gpt open api key.txt\", \"r\")\n",
    "key = keyfile.readline()\n",
    "openai.api_key = key"
   ]
  },
  {
   "cell_type": "code",
   "execution_count": 54,
   "id": "41f8c107",
   "metadata": {},
   "outputs": [],
   "source": [
    "#將文本分成幾段，因為CHATGPT只能處理3200個字\n",
    "data = []\n",
    "for i in range(slice_count):\n",
    "    start = i * 3200\n",
    "    end = min((i + 1) * 3200, len(itemlist))\n",
    "    data.append(itemlist[start:end])"
   ]
  },
  {
   "cell_type": "code",
   "execution_count": 41,
   "id": "9d96cf89",
   "metadata": {
    "scrolled": true
   },
   "outputs": [
    {
     "data": {
      "text/plain": [
       "\"['I am honored to be with you today at your commencement from one of the finest universities in the world. I \\\\nnever graduated from college. Truth be told', ' this is the closest I’ve ever gotten to a college graduation. \\\\nToday I want to tell you three stories from my life. That’s it. No big deal. Just three stories.\\\\nI dropped out of Reed College after the first 6 months', ' but then stayed around as a drop-in for another 18 \\\\nmonths or so before I really quit. So why did I drop out?\\\\nIt started before I was born. My biological mother was a young', ' unwed college graduate student', ' and she \\\\ndecided to put me up for adoption. She felt very strongly that I should be adopted by college graduates', ' so \\\\neverything was all set for me to be adopted at birth by a lawyer and his wife. Except that when I popped out \\\\nthey decided at the last minute that they really wanted a girl. So my parents', ' who were on a waiting list', ' got \\\\na call in the middle of the night asking: “We have an unexpected baby boy; do you want him?” They said: \\\\n“Of course.” My biological mother later found out that my mother had never graduated from college and \\\\nthat my father had never graduated from high school. She refused to sign the final adoption papers. She \\\\nonly relented a few months later when my parents promised that I would someday go to college.\\\\nAnd 17 years later I did go to college. But I naively chose a college that was almost as expensive as Stanford', ' \\\\nand all of my working-class parents’ savings were being spent on my college tuition. After six months', ' I \\\\ncouldn’t see the value in it. I had no idea what I wanted to do with my life and no idea how college was \\\\ngoing to help me figure it out. And here I was spending all of the money my parents had saved their entire \\\\nlife. So I decided to drop out and trust that it would all work out OK. It was pretty scary at the time', ' but \\\\nlooking back it was one of the best decisions I ever made. The minute I dropped out I could stop taking the \\\\nrequired classes that didn’t interest me', ' and begin dropping in on the ones that looked interesting.\\\\nIt wasn’t all romantic. I didn’t have a dorm room', ' so I slept on the floor in friends’ rooms', ' I returned Coke \\\\nbottles for the 5¢ deposits to buy food with', ' and I would walk the 7 miles across town every Sunday night to \\\\nget one good meal a week at the Hare Krishna temple. I loved it. And much of what I stumbled into by \\\\nfollowing my curiosity and intuition turned out to be priceless later on. Let me give you one example:\\\\nReed College at that time offered perhaps the best calligraphy instruction in the country. Throughout the \\\\ncampus every poster', ' every label on every drawer', ' was beautifully hand calligraphed. Because I had \\\\ndropped out and didn’t have to take the normal classes', ' I decided to take a calligraphy class to learn how to \\\\ndo this. I learned about serif and sans serif typefaces', ' about varying the amount of space between different \\\\nletter combinations', ' about what makes great typography great. It was beautiful', ' historical', ' artistically subtle in a way that science can’t capture', ' and I found it fascinating\""
      ]
     },
     "execution_count": 41,
     "metadata": {},
     "output_type": "execute_result"
    }
   ],
   "source": [
    "data[0]"
   ]
  },
  {
   "cell_type": "code",
   "execution_count": 55,
   "id": "abc04bda",
   "metadata": {},
   "outputs": [],
   "source": [
    "def chatgptfn(sub_list):\n",
    "    result = ''\n",
    "    response = openai.ChatCompletion.create(\n",
    "        model=\"gpt-3.5-turbo\",\n",
    "        messages=[\n",
    "            {\"role\": \"system\", \"content\": \"You are an assistant\"},\n",
    "            {\"role\": \"user\", \"content\": f\"{sub_list} :give me a summary\"}\n",
    "        ]\n",
    "    )\n",
    "    for choice in response.choices:\n",
    "        result += choice.message.content\n",
    "    return result"
   ]
  },
  {
   "cell_type": "code",
   "execution_count": 56,
   "id": "978ec65f",
   "metadata": {},
   "outputs": [],
   "source": [
    "for i in range(slice_count):\n",
    "    data[i] = chatgptfn(data[i])"
   ]
  },
  {
   "cell_type": "code",
   "execution_count": 22,
   "id": "3bcabf05",
   "metadata": {
    "scrolled": true
   },
   "outputs": [
    {
     "data": {
      "text/plain": [
       "\"Antimicrobial resistance, a global issue in which bacteria become resistant to common medications like antibiotics, led to 4.95 million deaths globally in 2019. Inappropriate use of antibiotics during the COVID pandemic has worsened the issue. Bacteria causing routine infections and illnesses like typhoid and tuberculosis are becoming increasingly resistant to existing drugs, and the pharmaceutical industry lacks interest in developing new antibiotics as they are not lucrative. Low- and middle-income countries will be disproportionately affected, with 90% of 10 million projected deaths yearly by 2050 happening in these nations. India, the world's largest consumer of antibiotics with a deeply entrenched culture of antibiotic use, struggles with widespread misuse of antibiotics due to lack of knowledge, diagnostics, economic incentives, patient demand, and fear of clinical failure. Stronger regulations around antibiotic prescribing, retraining health care providers, improving sanitation and hygiene, better diagnostics, and more robust vaccine programs are needed to address this issue.The overuse and misuse of antibiotics are causing bacteria to develop resistance towards these drugs, making them less effective. The COVID-19 pandemic has worsened this practice in low- and middle-income countries, despite the World Health Organization's recommendation against the use of antibiotics for mild and moderate cases. Changing the attitudes and approaches towards antibiotics among healthcare providers and the general public is crucial in addressing this problem. The World Health Organization has initiated the AWaRe framework for antibiotics, which classifies drugs according to the risk of resistance arising. Governments and health systems must take action to prevent over-the-counter sales of restricted drugs and direct sales by pharmaceutical companies to people.The article discusses the importance of regulations in combating antimicrobial resistance. It highlights examples in India, where bans on certain antibiotics have reduced their sales, and in Brazil and Chile, where banning over-the-counter sales also reduced use. The article suggests that medical schools and training programs need to teach responsible antibiotic use to prepare next-generation physicians to be better stewards of these drugs. By focusing on the next generation of doctors, the article suggests that this will have a domino effect on the public, pharmacists, and informal health care providers, safeguarding society against future antimicrobial resistance pandemics while dealing with the current one.\""
      ]
     },
     "execution_count": 22,
     "metadata": {},
     "output_type": "execute_result"
    }
   ],
   "source": [
    "#把分段的資料合起來(data1)\n",
    "data1=''\n",
    "for i in range(slice_count):\n",
    "    data1 += data[i]\n",
    "data1"
   ]
  },
  {
   "cell_type": "code",
   "execution_count": 29,
   "id": "85fed8d2",
   "metadata": {},
   "outputs": [
    {
     "data": {
      "text/plain": [
       "'The cold and flu season of 2022 has seen a surge in respiratory diseases, including COVID-19, the flu, and RSV. Despite the return to classic cold and flu season patterns, the use of masks remains a highly effective tool for reducing transmission. Research has shown that masks can reduce transmission of respiratory viruses, and mask-wearing has long been considered a primary strategy in protecting at-risk infants. The use of masks, along with other personal protective equipment, can help reduce the risk of respiratory illness for individuals and the broader community.The use of masks has been proven through research to reduce the transmission of respiratory illnesses, including COVID-19, RSV, influenza, and the common cold. Studies have shown that masks combined with hand hygiene can greatly reduce the spread of respiratory illnesses. The amount of virus in exhaled breath was also found to be lower for individuals wearing masks. School-wide mask requirements have been linked to a reduction in COVID-19 infections, as well as a reduction in non-COVID respiratory illnesses in families. Unlike vaccines and antiviral treatments, masks can reduce transmission for all respiratory viruses, making them a low-cost, low-tech way to keep people healthy.'"
      ]
     },
     "execution_count": 29,
     "metadata": {},
     "output_type": "execute_result"
    }
   ],
   "source": [
    "#把分段的資料合起來(data2)\n",
    "data2=''\n",
    "for i in range(slice_count):\n",
    "    data2 += data[i]\n",
    "data2"
   ]
  },
  {
   "cell_type": "code",
   "execution_count": 45,
   "id": "c61dc37d",
   "metadata": {},
   "outputs": [
    {
     "data": {
      "text/plain": [
       "\"Steve Jobs gave a commencement speech at a university and shared three stories from his life. He dropped out of college because he didn't see the value in it and wanted to follow his intuition. He didn't have a dorm room and had to sleep in friends' rooms, return Coke bottles for food, and walk seven miles to get one good meal a week. However, he stumbled upon a calligraphy class and learned about typography, which ended up being valuable later on.This passage is a speech by Steve Jobs about two key moments in his life that taught him important life lessons. Firstly, Jobs talks about how dropping out of college and taking a calligraphy class eventually inspired him to create the first computer with multiple typefaces and proportionally spaced fonts. Secondly, Jobs reflects on how being fired from Apple, the company he co-founded, was a devastating blow at the time, but ultimately allowed him to start over and enter one of the most creative periods of his life, during which he founded the companies NeXT and Pixar and met his future wife. The overall message is about trusting the journey of life, learning from setbacks, and following one's passions.Steve Jobs, in a commencement speech at Stanford University, shares three stories from his life. In the first story, he talks about how dropping out of college helped him to learn new things, including calligraphy that eventually became the foundation of the typography of Apple. In the second story, he talks about getting fired from his own company and how it taught him to pursue what he loved the most. He emphasizes that we should not settle for anything and keep searching until we find something we love. In the third story, he talks about being diagnosed with cancer and how the thought of dying helped him make the big choices in his life.Steve Jobs gave a commencement speech at Stanford University in 2005 where he talked about his experiences in life, including his pancreatic cancer diagnosis and surgery. He emphasized the importance of following one's heart and intuition, avoiding conformity and other people's opinions, and staying hungry and foolish. He also referenced The Whole Earth Catalog as an influential publication from his youth. The central theme of his speech was that death is an inevitable part of life, but it can also be a positive force for change.\""
      ]
     },
     "execution_count": 45,
     "metadata": {},
     "output_type": "execute_result"
    }
   ],
   "source": [
    "#把分段的資料合起來(data3)\n",
    "data3=''\n",
    "for i in range(slice_count):\n",
    "    data3 += data[i]\n",
    "data3"
   ]
  },
  {
   "cell_type": "code",
   "execution_count": 51,
   "id": "80863a34",
   "metadata": {
    "scrolled": true
   },
   "outputs": [
    {
     "data": {
      "text/plain": [
       "\"The speaker is emphasizing the importance of early child development and how it affects future outcomes. They express concern for the 250 million children under five who are at risk of physical and intellectual stunting due to poverty. They call on powerful individuals and businesses to use their resources to solve social problems and work towards a sustainable future. The speaker believes that investing in children's development has the potential to shape future societies and solve complex issues.The speaker emphasizes the importance of investing in early childhood development (ECD) in order to combat poverty and create opportunities for children. They describe their own experience building schools in remote areas of Colombia and engaging the government as a strategic partner. The investments in ECD programs, as well as infrastructure improvements, led to significant improvements in the communities. The speaker calls on governments to invest in campaigns for public awareness and create a fund for education. They believe that investing in humans is the smart and just thing to do, and that there isn't a moment to lose.\""
      ]
     },
     "execution_count": 51,
     "metadata": {},
     "output_type": "execute_result"
    }
   ],
   "source": [
    "#把分段的資料合起來(data4)\n",
    "data4=''\n",
    "for i in range(slice_count):\n",
    "    data4 += data[i]\n",
    "data4"
   ]
  },
  {
   "cell_type": "code",
   "execution_count": 57,
   "id": "3dbdc50f",
   "metadata": {},
   "outputs": [
    {
     "data": {
      "text/plain": [
       "\"Malala Yousafzai, a young Pakistani education activist, speaks about the importance of education for all children, and the right to be treated with dignity and equality. Despite being shot by the Taliban on her left side of her forehead in 2012, Malala has continued to fight for her cause. She supports the Global Education First initiative and calls for the right to education for all children, including those in extremist groups. She challenges the notion of personal revenge, and stands for the right of education for every child.The speaker shares her belief in nonviolence and forgiveness, which were taught to her by various influential figures like Martin Luther King Jr., Nelson Mandela, and Mother Teresa. She emphasizes the importance of education and how it frightens extremists who try to silence it. She also highlights the problems faced by women and children in different parts of the world like child labor, early marriages, and poverty, and encourages everyone to stand up for women's rights and education.The speaker, who focuses on empowering women, calls upon world leaders to change their policies for peace and prosperity, with a focus on protecting women and children's rights. The speaker urges governments to ensure free education for every child, fight against terrorism and violence, and support educational opportunities for girls in developing countries. The speaker encourages communities to reject prejudice and promote freedom and equality for women. The ultimate goal is to achieve education and peace for everyone, by addressing issues such as poverty, injustice, and illiteracy. Education is seen as the most powerful weapon for bringing about change.\""
      ]
     },
     "execution_count": 57,
     "metadata": {},
     "output_type": "execute_result"
    }
   ],
   "source": [
    "#把分段的資料合起來(data5)\n",
    "data5=''\n",
    "for i in range(slice_count):\n",
    "    data5 += data[i]\n",
    "data5"
   ]
  },
  {
   "cell_type": "code",
   "execution_count": 58,
   "id": "361e5e43",
   "metadata": {},
   "outputs": [],
   "source": [
    "papers=[data1,data2,data3,data4,data5]"
   ]
  },
  {
   "cell_type": "code",
   "execution_count": 59,
   "id": "73886e78",
   "metadata": {},
   "outputs": [],
   "source": [
    "import gensim\n",
    "from gensim import corpora\n",
    "from pprint import pprint"
   ]
  },
  {
   "cell_type": "code",
   "execution_count": 60,
   "id": "1e52bd4e",
   "metadata": {},
   "outputs": [],
   "source": [
    "# 創建詞袋\n",
    "texts = [[word for word in document.lower().split()] for document in papers]\n",
    "dictionary = corpora.Dictionary(texts)\n",
    "corpus = [dictionary.doc2bow(text) for text in texts]"
   ]
  },
  {
   "cell_type": "code",
   "execution_count": 61,
   "id": "88786dac",
   "metadata": {},
   "outputs": [],
   "source": [
    "# 訓練 LDA 模型\n",
    "lda_model = gensim.models.ldamodel.LdaModel(corpus=corpus, id2word=dictionary, \n",
    "                                            num_topics=3, random_state=100, update_every=1, \n",
    "                                            chunksize=100, passes=10, alpha='auto', per_word_topics=True)"
   ]
  },
  {
   "cell_type": "code",
   "execution_count": 62,
   "id": "722a5f40",
   "metadata": {},
   "outputs": [
    {
     "name": "stderr",
     "output_type": "stream",
     "text": [
      "C:\\Users\\hcgs6\\AppData\\Roaming\\Python\\Python310\\site-packages\\pyLDAvis\\_prepare.py:244: FutureWarning: In a future version of pandas all arguments of DataFrame.drop except for the argument 'labels' will be keyword-only.\n",
      "  by='saliency', ascending=False).head(R).drop('saliency', 1)\n"
     ]
    },
    {
     "data": {
      "text/html": [
       "\n",
       "<link rel=\"stylesheet\" type=\"text/css\" href=\"https://cdn.jsdelivr.net/gh/bmabey/pyLDAvis@3.4.0/pyLDAvis/js/ldavis.v1.0.0.css\">\n",
       "\n",
       "\n",
       "<div id=\"ldavis_el1768428586666508487546490873\" style=\"background-color:white;\"></div>\n",
       "<script type=\"text/javascript\">\n",
       "\n",
       "var ldavis_el1768428586666508487546490873_data = {\"mdsDat\": {\"x\": [0.09010169917220852, -0.055476938739382524, -0.034624760432826016], \"y\": [-0.0063776848632920245, -0.0381478635843487, 0.044525548447640714], \"topics\": [1, 2, 3], \"cluster\": [1, 1, 1], \"Freq\": [92.27899334790217, 7.719265304040679, 0.0017413480571460559]}, \"tinfo\": {\"Term\": [\"the\", \"of\", \"and\", \"in\", \"a\", \"to\", \"for\", \"he\", \"his\", \"about\", \"that\", \"him\", \"from\", \"how\", \"with\", \"jobs\", \"at\", \"speech\", \"is\", \"it\", \"which\", \"on\", \"being\", \"calligraphy\", \"out\", \"as\", \"life,\", \"college\", \"by\", \"first\", \"he\", \"his\", \"about\", \"how\", \"him\", \"jobs\", \"from\", \"is\", \"at\", \"on\", \"speech\", \"it\", \"which\", \"out\", \"being\", \"calligraphy\", \"by\", \"importance\", \"first\", \"college\", \"life,\", \"life\", \"speaker\", \"talks\", \"education\", \"dropping\", \"stories\", \"experiences\", \"they\", \"fired\", \"and\", \"to\", \"the\", \"in\", \"of\", \"a\", \"for\", \"that\", \"with\", \"as\", \"respiratory\", \"masks\", \"reduce\", \"been\", \"transmission\", \"reduction\", \"flu\", \"covid-19,\", \"research\", \"cold\", \"shown\", \"viruses,\", \"season\", \"tool\", \"reducing\", \"at-risk\", \"spread\", \"transmission.\", \"treatments,\", \"protective\", \"flu,\", \"illness\", \"equipment,\", \"highly\", \"rsv.\", \"influenza,\", \"requirements\", \"low-cost,\", \"cold.\", \"linked\", \"considered\", \"individuals\", \"has\", \"can\", \"use\", \"of\", \"the\", \"a\", \"in\", \"and\", \"for\", \"to\", \"have\", \"including\", \"as\", \"with\", \"that\", \"also\", \"hygiene\", \"antiviral\", \"rsv,\", \"spread\", \"unlike\", \"primary\", \"tool\", \"masks,\", \"requirements\", \"people\", \"2022\", \"illnesses,\", \"community.the\", \"influenza,\", \"reducing\", \"illnesses.\", \"vaccines\", \"transmission.\", \"classic\", \"healthy.\", \"combined\", \"studies\", \"infections,\", \"illness\", \"exhaled\", \"masks.\", \"mask\", \"strategy\", \"remains\", \"highly\", \"breath\", \"infants.\", \"and\", \"the\", \"of\", \"in\", \"to\", \"he\", \"a\", \"his\", \"for\", \"him\", \"about\", \"from\", \"which\", \"that\", \"with\", \"speech\", \"at\", \"as\", \"it\", \"being\", \"jobs\", \"respiratory\", \"life,\", \"is\", \"experiences\", \"calligraphy\", \"college\", \"cancer\", \"taught\", \"how\", \"by\", \"was\"], \"Freq\": [112.0, 60.0, 110.0, 54.0, 38.0, 63.0, 29.0, 38.0, 31.0, 27.0, 17.0, 18.0, 16.0, 21.0, 14.0, 17.0, 13.0, 13.0, 13.0, 12.0, 11.0, 13.0, 11.0, 11.0, 11.0, 11.0, 10.0, 10.0, 10.0, 10.0, 37.93096359414725, 31.668800441467905, 27.176965922610492, 20.92204109145001, 18.205526708297985, 17.324886074091363, 16.416464920696345, 13.746369788292787, 13.74001131018416, 12.8595906368301, 13.727807238296291, 12.841239463848016, 11.052021021200163, 11.061169246707108, 11.05098666870325, 11.046908272602863, 10.166501547985794, 10.1691174726616, 10.159617309790562, 10.155213800820295, 10.152395082968226, 10.152321047364193, 9.278490615748774, 9.252822793724716, 8.380135085562838, 8.366424013589993, 8.364616579169814, 8.360244723102719, 7.479348719711177, 7.471250404907792, 107.06871970908661, 61.357996129089784, 107.96732738951815, 51.392172914242416, 56.78895642396371, 36.18922557923899, 28.113745931289174, 16.435884781527943, 13.749717485170768, 10.17180743294144, 3.048553108826097, 2.2188589895680204, 2.2175225191502776, 1.3858758426411888, 1.3853128017459237, 0.9709319360288903, 0.9706565638837167, 0.9703918727311364, 0.9699205627134354, 0.970032039963861, 0.9698678758003921, 0.9699544905722606, 0.9695623455584852, 0.5548613642104995, 0.5548091709567777, 0.5548661661693544, 0.5547009698091223, 0.554768915283013, 0.5548696217846051, 0.5548721349593329, 0.5548731671560961, 0.5547390264550003, 0.554857639326528, 0.5547519962317206, 0.5548330909948118, 0.5546671317065375, 0.5546481482617186, 0.5548654481194322, 0.5547813465222915, 0.5547426615827316, 0.5547991631359867, 0.9754904759601397, 1.80945726152418, 1.8074758027637983, 1.3903970439764826, 3.932978788281017, 4.788580866782917, 2.659217824396294, 2.686147389166963, 3.111048224782044, 1.8201131223700082, 2.2389916732873822, 0.9731516078509702, 0.9765489713017406, 0.9748760944954353, 0.9822431969412301, 0.9866942088966262, 0.5601154701257849, 5.442498581296604e-05, 5.440590748031779e-05, 5.439833992730396e-05, 5.4384971427297584e-05, 5.440163522965313e-05, 5.439858796081411e-05, 5.437111192217927e-05, 5.438492587012225e-05, 5.4375449977652755e-05, 5.438012718098706e-05, 5.437321767606138e-05, 5.438632801874087e-05, 5.438766942445904e-05, 5.436626767586875e-05, 5.4354306386389365e-05, 5.436459218419813e-05, 5.438012718098706e-05, 5.4348581368022376e-05, 5.4365452708621104e-05, 5.4353774886010466e-05, 5.436179801077763e-05, 5.4351810865562726e-05, 5.435500492974448e-05, 5.433908016601103e-05, 5.434042663363757e-05, 5.434595929948648e-05, 5.434515445605558e-05, 5.4342562758969906e-05, 5.435933792330959e-05, 5.4331072226968965e-05, 5.4355015053561225e-05, 5.435260558517689e-05, 7.349915757253522e-05, 7.035319164411339e-05, 6.639702172382469e-05, 6.486313693986718e-05, 6.269316262626139e-05, 6.150295611111601e-05, 6.075558558785162e-05, 5.972270318486002e-05, 5.962617259223542e-05, 5.887333520793094e-05, 5.919039290062284e-05, 5.8025268141453066e-05, 5.7499872424049926e-05, 5.7405741175992925e-05, 5.7156862327142696e-05, 5.7060534210852914e-05, 5.692632277231864e-05, 5.672496511925026e-05, 5.674674651096833e-05, 5.65914876574297e-05, 5.683551213615265e-05, 5.5865367025504486e-05, 5.6318873520230404e-05, 5.647672407085471e-05, 5.6148945256234185e-05, 5.626862901774526e-05, 5.620232814190902e-05, 5.602394649093414e-05, 5.592565435419662e-05, 5.655562909853339e-05, 5.598300577603389e-05, 5.595993359768135e-05], \"Total\": [112.0, 60.0, 110.0, 54.0, 38.0, 63.0, 29.0, 38.0, 31.0, 27.0, 17.0, 18.0, 16.0, 21.0, 14.0, 17.0, 13.0, 13.0, 13.0, 12.0, 11.0, 13.0, 11.0, 11.0, 11.0, 11.0, 10.0, 10.0, 10.0, 10.0, 38.11062096120699, 31.838583021356595, 27.346550798168064, 21.080582798591177, 18.36710127406155, 17.483160172396932, 16.576033124960066, 13.897372184053342, 13.892809661813002, 13.00650517866023, 13.885922996005952, 12.99437109155276, 11.199100454357529, 11.208980378531162, 11.200881564783298, 11.19952506283567, 10.311204188792379, 10.314485810993261, 10.307637394753147, 10.304591996188158, 10.302781413557442, 10.303709040337854, 9.42065175936109, 9.404395290551362, 8.522180039181693, 8.513547695295612, 8.512203885398574, 8.508311167392272, 7.6227834121794285, 7.616680806224221, 110.17984143302621, 63.59705049553979, 112.75597860949271, 54.07838516654632, 60.72200160926646, 38.84850415922087, 29.933918679831773, 17.422636396165746, 14.732017838974325, 11.146740252401996, 3.363742998103658, 2.527893661456532, 2.528271553339411, 1.6922060521082345, 1.6931464716166458, 1.2741023050080715, 1.274623952246183, 1.2749922742827127, 1.2748656123826856, 1.27520048749682, 1.2750018903034888, 1.275284456088205, 1.276265797120742, 0.8563796616750247, 0.8565326254658909, 0.8566828304054677, 0.856487760789623, 0.8566108612703007, 0.856780890993652, 0.8567950362454765, 0.8568866178606054, 0.8566981859808039, 0.8568903391770857, 0.8567273430379672, 0.8568628167087716, 0.8566302750327476, 0.8566012751155178, 0.8569696863531722, 0.8568486062951672, 0.8568023598466986, 0.8569307161274048, 2.167100285162052, 6.5951857844959205, 6.594864695977353, 5.279783406180629, 60.72200160926646, 112.75597860949271, 38.84850415922087, 54.07838516654632, 110.17984143302621, 29.933918679831773, 63.59705049553979, 4.864941789192241, 9.351972048765298, 11.146740252401996, 14.732017838974325, 17.422636396165746, 8.034237216403168, 0.85667960548409, 0.8565869016841963, 0.8565981848852338, 0.856487760789623, 0.8568202505852424, 0.8567767108779671, 0.8563796616750247, 0.8566162177587767, 0.8566012751155178, 0.8566939583566843, 0.8567088936417548, 0.8569188362854648, 0.8569532813430584, 0.8566302750327476, 0.8565326254658909, 0.8567355222299886, 0.8570611135695188, 0.8566108612703007, 0.8569203770798364, 0.856795274832945, 0.8569752938531854, 0.8568322712228771, 0.8569195763908121, 0.8566981859808039, 0.8567428452565186, 0.8568346999616959, 0.8568588551123261, 0.8568432254555391, 0.857167902556707, 0.8567273430379672, 0.8571555678330283, 0.8572321081567789, 110.17984143302621, 112.75597860949271, 60.72200160926646, 54.07838516654632, 63.59705049553979, 38.11062096120699, 38.84850415922087, 31.838583021356595, 29.933918679831773, 18.36710127406155, 27.346550798168064, 16.576033124960066, 11.199100454357529, 17.422636396165746, 14.732017838974325, 13.885922996005952, 13.892809661813002, 11.146740252401996, 12.99437109155276, 11.200881564783298, 17.483160172396932, 3.363742998103658, 10.302781413557442, 13.897372184053342, 8.508311167392272, 11.19952506283567, 10.304591996188158, 7.610189376108142, 6.715412309550972, 21.080582798591177, 10.311204188792379, 8.933425745644982], \"Category\": [\"Default\", \"Default\", \"Default\", \"Default\", \"Default\", \"Default\", \"Default\", \"Default\", \"Default\", \"Default\", \"Default\", \"Default\", \"Default\", \"Default\", \"Default\", \"Default\", \"Default\", \"Default\", \"Default\", \"Default\", \"Default\", \"Default\", \"Default\", \"Default\", \"Default\", \"Default\", \"Default\", \"Default\", \"Default\", \"Default\", \"Topic1\", \"Topic1\", \"Topic1\", \"Topic1\", \"Topic1\", \"Topic1\", \"Topic1\", \"Topic1\", \"Topic1\", \"Topic1\", \"Topic1\", \"Topic1\", \"Topic1\", \"Topic1\", \"Topic1\", \"Topic1\", \"Topic1\", \"Topic1\", \"Topic1\", \"Topic1\", \"Topic1\", \"Topic1\", \"Topic1\", \"Topic1\", \"Topic1\", \"Topic1\", \"Topic1\", \"Topic1\", \"Topic1\", \"Topic1\", \"Topic1\", \"Topic1\", \"Topic1\", \"Topic1\", \"Topic1\", \"Topic1\", \"Topic1\", \"Topic1\", \"Topic1\", \"Topic1\", \"Topic2\", \"Topic2\", \"Topic2\", \"Topic2\", \"Topic2\", \"Topic2\", \"Topic2\", \"Topic2\", \"Topic2\", \"Topic2\", \"Topic2\", \"Topic2\", \"Topic2\", \"Topic2\", \"Topic2\", \"Topic2\", \"Topic2\", \"Topic2\", \"Topic2\", \"Topic2\", \"Topic2\", \"Topic2\", \"Topic2\", \"Topic2\", \"Topic2\", \"Topic2\", \"Topic2\", \"Topic2\", \"Topic2\", \"Topic2\", \"Topic2\", \"Topic2\", \"Topic2\", \"Topic2\", \"Topic2\", \"Topic2\", \"Topic2\", \"Topic2\", \"Topic2\", \"Topic2\", \"Topic2\", \"Topic2\", \"Topic2\", \"Topic2\", \"Topic2\", \"Topic2\", \"Topic2\", \"Topic2\", \"Topic3\", \"Topic3\", \"Topic3\", \"Topic3\", \"Topic3\", \"Topic3\", \"Topic3\", \"Topic3\", \"Topic3\", \"Topic3\", \"Topic3\", \"Topic3\", \"Topic3\", \"Topic3\", \"Topic3\", \"Topic3\", \"Topic3\", \"Topic3\", \"Topic3\", \"Topic3\", \"Topic3\", \"Topic3\", \"Topic3\", \"Topic3\", \"Topic3\", \"Topic3\", \"Topic3\", \"Topic3\", \"Topic3\", \"Topic3\", \"Topic3\", \"Topic3\", \"Topic3\", \"Topic3\", \"Topic3\", \"Topic3\", \"Topic3\", \"Topic3\", \"Topic3\", \"Topic3\", \"Topic3\", \"Topic3\", \"Topic3\", \"Topic3\", \"Topic3\", \"Topic3\", \"Topic3\", \"Topic3\", \"Topic3\", \"Topic3\", \"Topic3\", \"Topic3\", \"Topic3\", \"Topic3\", \"Topic3\", \"Topic3\", \"Topic3\", \"Topic3\", \"Topic3\", \"Topic3\", \"Topic3\", \"Topic3\", \"Topic3\", \"Topic3\"], \"logprob\": [30.0, 29.0, 28.0, 27.0, 26.0, 25.0, 24.0, 23.0, 22.0, 21.0, 20.0, 19.0, 18.0, 17.0, 16.0, 15.0, 14.0, 13.0, 12.0, 11.0, 10.0, 9.0, 8.0, 7.0, 6.0, 5.0, 4.0, 3.0, 2.0, 1.0, -4.1067, -4.2872, -4.4401, -4.7017, -4.8408, -4.8903, -4.9442, -5.1217, -5.1222, -5.1884, -5.1231, -5.1898, -5.3399, -5.3391, -5.34, -5.3403, -5.4234, -5.4231, -5.4241, -5.4245, -5.4248, -5.4248, -5.5148, -5.5176, -5.6166, -5.6183, -5.6185, -5.619, -5.7303, -5.7314, -3.069, -3.6258, -3.0607, -3.803, -3.7031, -4.1537, -4.4062, -4.943, -5.1215, -5.4229, -4.1467, -4.4644, -4.465, -4.9351, -4.9355, -5.2909, -5.2912, -5.2914, -5.2919, -5.2918, -5.292, -5.2919, -5.2923, -5.8504, -5.8505, -5.8504, -5.8507, -5.8506, -5.8504, -5.8504, -5.8504, -5.8507, -5.8504, -5.8506, -5.8505, -5.8508, -5.8508, -5.8504, -5.8506, -5.8506, -5.8505, -5.2862, -4.6684, -4.6695, -4.9318, -3.892, -3.6952, -4.2834, -4.2733, -4.1264, -4.6625, -4.4554, -5.2886, -5.2851, -5.2868, -5.2793, -5.2748, -5.841, -6.6833, -6.6836, -6.6838, -6.684, -6.6837, -6.6838, -6.6843, -6.684, -6.6842, -6.6841, -6.6842, -6.684, -6.684, -6.6843, -6.6846, -6.6844, -6.6841, -6.6847, -6.6844, -6.6846, -6.6844, -6.6846, -6.6846, -6.6848, -6.6848, -6.6847, -6.6847, -6.6848, -6.6845, -6.685, -6.6846, -6.6846, -6.3828, -6.4266, -6.4844, -6.5078, -6.5418, -6.561, -6.5732, -6.5904, -6.592, -6.6047, -6.5993, -6.6192, -6.6283, -6.6299, -6.6343, -6.636, -6.6383, -6.6419, -6.6415, -6.6442, -6.6399, -6.6571, -6.6491, -6.6463, -6.6521, -6.65, -6.6511, -6.6543, -6.6561, -6.6449, -6.655, -6.6555], \"loglift\": [30.0, 29.0, 28.0, 27.0, 26.0, 25.0, 24.0, 23.0, 22.0, 21.0, 20.0, 19.0, 18.0, 17.0, 16.0, 15.0, 14.0, 13.0, 12.0, 11.0, 10.0, 9.0, 8.0, 7.0, 6.0, 5.0, 4.0, 3.0, 2.0, 1.0, 0.0756, 0.075, 0.0741, 0.0728, 0.0715, 0.0713, 0.0707, 0.0694, 0.0693, 0.069, 0.0689, 0.0685, 0.0671, 0.0671, 0.0669, 0.0666, 0.0662, 0.0662, 0.0659, 0.0658, 0.0656, 0.0656, 0.0651, 0.0641, 0.0635, 0.0629, 0.0629, 0.0628, 0.0614, 0.0611, 0.0517, 0.0445, 0.037, 0.0294, 0.0134, 0.0094, 0.0176, 0.0221, 0.0113, -0.0112, 2.4631, 2.4311, 2.4303, 2.3618, 2.3608, 2.2897, 2.289, 2.2885, 2.2881, 2.2879, 2.2879, 2.2878, 2.2866, 2.1275, 2.1272, 2.1271, 2.127, 2.127, 2.127, 2.127, 2.1269, 2.1269, 2.1269, 2.1269, 2.1268, 2.1268, 2.1268, 2.1268, 2.1268, 2.1267, 2.1267, 1.7632, 1.2681, 1.2671, 1.2272, -0.1755, -0.5975, -0.1202, -0.4409, -1.0057, -0.2386, -0.7851, 0.9522, 0.3021, 0.1249, -0.1465, -0.3097, -0.1019, 1.2943, 1.294, 1.2939, 1.2938, 1.2937, 1.2937, 1.2936, 1.2936, 1.2935, 1.2934, 1.2933, 1.2933, 1.2933, 1.2932, 1.2931, 1.2931, 1.293, 1.2929, 1.2929, 1.2928, 1.2928, 1.2927, 1.2927, 1.2927, 1.2926, 1.2926, 1.2926, 1.2926, 1.2925, 1.2925, 1.2924, 1.2923, -3.2621, -3.3289, -2.7679, -2.6754, -2.8716, -2.3787, -2.4101, -2.2282, -2.1681, -1.6924, -2.0851, -1.6043, -1.2213, -1.6649, -1.5015, -1.444, -1.4469, -1.2302, -1.3832, -1.2374, -1.6783, -0.0474, -1.1586, -1.4551, -0.9703, -1.243, -1.1609, -0.861, -0.7376, -1.8704, -1.1654, -1.0224]}, \"token.table\": {\"Topic\": [2, 1, 2, 1, 1, 2, 1, 2, 2, 1, 2, 1, 2, 2, 1, 2, 1, 1, 1, 2, 1, 2, 2, 2, 1, 2, 2, 2, 2, 1, 1, 2, 2, 1, 1, 1, 2, 2, 1, 2, 1, 1, 2, 1, 2, 1, 2, 2, 1, 1, 1, 2, 2, 2, 2, 1, 1, 2, 1, 2, 1, 2, 2, 2, 2, 1, 1, 1, 1, 1, 2, 2, 2, 2, 2, 2, 1, 2, 1, 1, 2, 2, 2, 2, 2, 2, 2, 2, 2, 2, 2, 2, 2, 2, 1, 1, 2, 1, 2, 2, 1, 1, 1, 2, 1, 2, 1, 1, 2, 2, 2, 2, 2, 2, 1, 2, 2, 2, 1, 2, 1, 1, 2], \"Freq\": [1.1672576384133633, 0.9266766064519175, 0.0772230505376598, 0.9873274402784544, 0.871271262156461, 0.12446732316520871, 0.9711395352210676, 0.0272282112678804, 1.167423874955161, 0.8971232641619252, 0.08971232641619252, 1.0077155262899506, 1.1672931504028163, 0.5909445831104021, 0.982065557641919, 1.1666493662615949, 0.9698188317199035, 0.9821845067789731, 0.7581656683646342, 0.30326626734585366, 0.9198194228879764, 1.1669695653728553, 0.7841904153934021, 1.167067312303616, 0.9704411396102988, 1.1668947835167314, 1.1669247574765709, 1.166955485641997, 0.7843184779786856, 0.9396787668694936, 0.93872694113702, 1.1670104729624442, 1.1672113814975469, 0.9402571018628995, 0.9190354930299455, 0.9701544221074615, 0.7845451187683772, 1.1670155410953982, 0.9353937350964087, 0.06681383822117204, 0.9652490363274745, 0.758128756850806, 0.3032515027403224, 0.8222092212667865, 0.20555230531669663, 0.9970973718502358, 1.1671399567358451, 1.1672325018295622, 0.980013107752611, 1.005069854350463, 0.9961773922779515, 1.1672975446111187, 1.167272227680901, 1.166971663658086, 1.16722135834535, 0.9695102774141121, 0.943075497593618, 0.055475029270212826, 0.8554345498772322, 0.10692931873465403, 0.4614461115837201, 0.4614461115837201, 1.1665451987679285, 1.166970655766573, 1.167364765343802, 1.0073846921984588, 1.0004331805215951, 0.9723642540803485, 0.9705242996333779, 0.9706116822823193, 1.167130305498835, 1.1669024189822772, 1.1670533531090246, 0.7911725206224189, 1.167383922074658, 1.1670862536784565, 0.9387042338752802, 0.06587398132458107, 0.9994998519148016, 0.9813559867647349, 1.1672779879505701, 1.1671652453942956, 1.167140281743526, 0.7910542668402628, 1.167497851533762, 0.7848663298616864, 1.16663257807165, 1.1674042860432867, 0.7843964024812231, 0.8918636179075745, 1.1674084975255687, 1.1670479573860157, 0.7835358451632894, 0.7843125626754718, 0.9553479132754166, 1.008215298617662, 1.1675590075894005, 0.9398271126614832, 1.1670746413013324, 1.1670895618494772, 0.9569993308386707, 1.0423782900186596, 0.9183455153504305, 0.05739659470940191, 0.9578206081119293, 0.044343546671848574, 0.9182997366572995, 0.9591639789061928, 0.03144799930839976, 1.1677063862587103, 0.5906163564485845, 1.1673912218636384, 1.1671595509561956, 1.1671059353662103, 0.7576068357875274, 0.18940170894688185, 1.1667779393643987, 0.7841387819211646, 0.8955131242793366, 0.11193914053491708, 0.9822217458295894, 0.9503110947206611, 0.06787936390861865], \"Term\": [\"2022\", \"a\", \"a\", \"about\", \"also\", \"also\", \"and\", \"and\", \"antiviral\", \"as\", \"as\", \"at\", \"at-risk\", \"been\", \"being\", \"breath\", \"by\", \"calligraphy\", \"can\", \"can\", \"cancer\", \"classic\", \"cold\", \"cold.\", \"college\", \"combined\", \"community.the\", \"considered\", \"covid-19,\", \"dropping\", \"education\", \"equipment,\", \"exhaled\", \"experiences\", \"fired\", \"first\", \"flu\", \"flu,\", \"for\", \"for\", \"from\", \"has\", \"has\", \"have\", \"have\", \"he\", \"healthy.\", \"highly\", \"him\", \"his\", \"how\", \"hygiene\", \"illness\", \"illnesses,\", \"illnesses.\", \"importance\", \"in\", \"in\", \"including\", \"including\", \"individuals\", \"individuals\", \"infants.\", \"infections,\", \"influenza,\", \"is\", \"it\", \"jobs\", \"life\", \"life,\", \"linked\", \"low-cost,\", \"mask\", \"masks\", \"masks,\", \"masks.\", \"of\", \"of\", \"on\", \"out\", \"people\", \"primary\", \"protective\", \"reduce\", \"reducing\", \"reduction\", \"remains\", \"requirements\", \"research\", \"respiratory\", \"rsv,\", \"rsv.\", \"season\", \"shown\", \"speaker\", \"speech\", \"spread\", \"stories\", \"strategy\", \"studies\", \"talks\", \"taught\", \"that\", \"that\", \"the\", \"the\", \"they\", \"to\", \"to\", \"tool\", \"transmission\", \"transmission.\", \"treatments,\", \"unlike\", \"use\", \"use\", \"vaccines\", \"viruses,\", \"was\", \"was\", \"which\", \"with\", \"with\"]}, \"R\": 30, \"lambda.step\": 0.01, \"plot.opts\": {\"xlab\": \"PC1\", \"ylab\": \"PC2\"}, \"topic.order\": [1, 3, 2]};\n",
       "\n",
       "function LDAvis_load_lib(url, callback){\n",
       "  var s = document.createElement('script');\n",
       "  s.src = url;\n",
       "  s.async = true;\n",
       "  s.onreadystatechange = s.onload = callback;\n",
       "  s.onerror = function(){console.warn(\"failed to load library \" + url);};\n",
       "  document.getElementsByTagName(\"head\")[0].appendChild(s);\n",
       "}\n",
       "\n",
       "if(typeof(LDAvis) !== \"undefined\"){\n",
       "   // already loaded: just create the visualization\n",
       "   !function(LDAvis){\n",
       "       new LDAvis(\"#\" + \"ldavis_el1768428586666508487546490873\", ldavis_el1768428586666508487546490873_data);\n",
       "   }(LDAvis);\n",
       "}else if(typeof define === \"function\" && define.amd){\n",
       "   // require.js is available: use it to load d3/LDAvis\n",
       "   require.config({paths: {d3: \"https://d3js.org/d3.v5\"}});\n",
       "   require([\"d3\"], function(d3){\n",
       "      window.d3 = d3;\n",
       "      LDAvis_load_lib(\"https://cdn.jsdelivr.net/gh/bmabey/pyLDAvis@3.4.0/pyLDAvis/js/ldavis.v3.0.0.js\", function(){\n",
       "        new LDAvis(\"#\" + \"ldavis_el1768428586666508487546490873\", ldavis_el1768428586666508487546490873_data);\n",
       "      });\n",
       "    });\n",
       "}else{\n",
       "    // require.js not available: dynamically load d3 & LDAvis\n",
       "    LDAvis_load_lib(\"https://d3js.org/d3.v5.js\", function(){\n",
       "         LDAvis_load_lib(\"https://cdn.jsdelivr.net/gh/bmabey/pyLDAvis@3.4.0/pyLDAvis/js/ldavis.v3.0.0.js\", function(){\n",
       "                 new LDAvis(\"#\" + \"ldavis_el1768428586666508487546490873\", ldavis_el1768428586666508487546490873_data);\n",
       "            })\n",
       "         });\n",
       "}\n",
       "</script>"
      ],
      "text/plain": [
       "<IPython.core.display.HTML object>"
      ]
     },
     "execution_count": 62,
     "metadata": {},
     "output_type": "execute_result"
    }
   ],
   "source": [
    "# 輸出主題模型分析結果\n",
    "import pyLDAvis.gensim\n",
    "pyLDAvis.enable_notebook()\n",
    "vis = pyLDAvis.gensim.prepare(lda_model, corpus, dictionary)\n",
    "pyLDAvis.display(vis)"
   ]
  },
  {
   "cell_type": "code",
   "execution_count": null,
   "id": "4229de7c",
   "metadata": {},
   "outputs": [],
   "source": []
  }
 ],
 "metadata": {
  "kernelspec": {
   "display_name": "Python 3 (ipykernel)",
   "language": "python",
   "name": "python3"
  },
  "language_info": {
   "codemirror_mode": {
    "name": "ipython",
    "version": 3
   },
   "file_extension": ".py",
   "mimetype": "text/x-python",
   "name": "python",
   "nbconvert_exporter": "python",
   "pygments_lexer": "ipython3",
   "version": "3.10.9"
  }
 },
 "nbformat": 4,
 "nbformat_minor": 5
}
